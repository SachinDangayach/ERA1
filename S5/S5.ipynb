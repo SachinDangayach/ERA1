{
 "cells": [
  {
   "cell_type": "code",
   "execution_count": 2,
   "id": "847f6281",
   "metadata": {},
   "outputs": [],
   "source": [
    "import torch\n",
    "import numpy as np"
   ]
  },
  {
   "cell_type": "code",
   "execution_count": 7,
   "id": "206dce04",
   "metadata": {},
   "outputs": [],
   "source": [
    "v1 = np.array([1,2,3])"
   ]
  },
  {
   "cell_type": "code",
   "execution_count": 9,
   "id": "2ed2862e",
   "metadata": {},
   "outputs": [],
   "source": [
    "t1 = torch.tensor(v1)"
   ]
  },
  {
   "cell_type": "code",
   "execution_count": 12,
   "id": "9045d365",
   "metadata": {},
   "outputs": [],
   "source": [
    "# t2 = t1.cuda()"
   ]
  },
  {
   "cell_type": "code",
   "execution_count": null,
   "id": "609d3177",
   "metadata": {},
   "outputs": [],
   "source": []
  }
 ],
 "metadata": {
  "kernelspec": {
   "display_name": "Python 3 (ipykernel)",
   "language": "python",
   "name": "python3"
  },
  "language_info": {
   "codemirror_mode": {
    "name": "ipython",
    "version": 3
   },
   "file_extension": ".py",
   "mimetype": "text/x-python",
   "name": "python",
   "nbconvert_exporter": "python",
   "pygments_lexer": "ipython3",
   "version": "3.9.13"
  }
 },
 "nbformat": 4,
 "nbformat_minor": 5
}
